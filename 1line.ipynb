{
 "cells": [
  {
   "cell_type": "markdown",
   "id": "4cdcab53",
   "metadata": {},
   "source": [
    "#Если задача стояла минимальное кол-во строк кода, то ниже получается решение в 1 строку если не считать объявление функции и возврат значения. Строка сделана как 3 чтобы легче проверять."
   ]
  },
  {
   "cell_type": "code",
   "execution_count": null,
   "id": "e9dd51ff",
   "metadata": {},
   "outputs": [],
   "source": [
    "import pandas as pd"
   ]
  },
  {
   "cell_type": "code",
   "execution_count": null,
   "id": "39de20f7",
   "metadata": {},
   "outputs": [],
   "source": [
    "def solution(df):\n",
    "    df[\"Ежемесячный доход\"] = df[\"Ежемесячный доход\"].fillna(pd.Series([i[1][\"all_d\"] if i[1][\"cnt\"] < 50 else i[1][\"avg_d\"] for i in (df.assign(cnt= [df.groupby([\"Регион\"]).count()[\"FIO\"][i[1][\"Регион\"]] for i in df.iterrows()],\n",
    "                                                                                                                                                 avg_d= [df.groupby([\"Регион\"]).mean().loc[i][\"Ежемесячный доход\"] for i in df[\"Регион\"]],\n",
    "                                                                                                                                                 all_d=df.mean(0)[1])).iterrows()]))\n",
    "\n",
    "    return df"
   ]
  },
  {
   "cell_type": "markdown",
   "id": "7ebe0266",
   "metadata": {},
   "source": [
    "#Мне больше нравится чуть более большая версия, состоящая из 3 строк."
   ]
  },
  {
   "cell_type": "code",
   "execution_count": null,
   "id": "5b02433a",
   "metadata": {},
   "outputs": [],
   "source": [
    "def solution(df):\n",
    "    df_with_clmns = (df.assign(cnt= [df.groupby([\"Регион\"]).count()[\"FIO\"][i[1][\"Регион\"]] for i in df.iterrows()],\n",
    "                               avg_d= [df.groupby([\"Регион\"]).mean().loc[i][\"Ежемесячный доход\"] for i in df[\"Регион\"]],\n",
    "                               all_d=df.mean(0)[1]))\n",
    "    tmp_list = [i[1][\"all_d\"] if i[1][\"cnt\"] < 50 else i[1][\"avg_d\"] for i in df_with_clmns.iterrows()]\n",
    "    df[\"Ежемесячный доход\"] = df[\"Ежемесячный доход\"].fillna(pd.Series(tmp_list))\n",
    "    \n",
    "\n",
    "    return df"
   ]
  }
 ],
 "metadata": {
  "kernelspec": {
   "display_name": "Python 3.9.7 64-bit",
   "language": "python",
   "name": "python3"
  },
  "language_info": {
   "codemirror_mode": {
    "name": "ipython",
    "version": 3
   },
   "file_extension": ".py",
   "mimetype": "text/x-python",
   "name": "python",
   "nbconvert_exporter": "python",
   "pygments_lexer": "ipython3",
   "version": "3.9.7"
  },
  "vscode": {
   "interpreter": {
    "hash": "366a9b05c881409bb9370e827c705286f96dc5fb8e581e9b2d19cbb714354eef"
   }
  }
 },
 "nbformat": 4,
 "nbformat_minor": 5
}
